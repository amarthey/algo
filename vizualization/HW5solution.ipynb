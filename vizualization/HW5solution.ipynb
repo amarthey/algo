{
 "cells": [
  {
   "cell_type": "markdown",
   "metadata": {},
   "source": [
    "# NP-Hard Problems\n",
    "\n",
    "The purpose of this assignment is to familiarize yourself with different approaches to solving NP-hard problems in practice, especially via integer programming.\n",
    "\n",
    "As in previous assignments, we will use [NetworkX](https://networkx.github.io/) to manipulate graphs and [PuLP](http://pythonhosted.org/PuLP/) to solve linear and integer programs."
   ]
  },
  {
   "cell_type": "code",
   "execution_count": 1,
   "metadata": {
    "collapsed": false
   },
   "outputs": [],
   "source": [
    "import networkx as nx\n",
    "import pulp"
   ]
  },
  {
   "cell_type": "markdown",
   "metadata": {},
   "source": [
    "We will use two graph datasets for this assignment, both available in [GML](https://en.wikipedia.org/wiki/Graph_Modelling_Language) format. The first is a well-known graph of the social network of a karate club [1]. The second is a network representing the western states power grid in the US [2]."
   ]
  },
  {
   "cell_type": "code",
   "execution_count": 2,
   "metadata": {
    "collapsed": false
   },
   "outputs": [],
   "source": [
    "karate = nx.read_gml('karate.gml')\n",
    "power = nx.read_gml('power.gml')"
   ]
  },
  {
   "cell_type": "markdown",
   "metadata": {},
   "source": [
    "[1] W. Zachary, An information flow model for conflict and fission in small groups, Journal of Anthropological Research 33, 452-473 (1977). \n",
    "\n",
    "[2] D. J. Watts and S. H. Strogatz, Collective dynamics of 'small world' networks, Nature 393, 440-442 (1998). "
   ]
  },
  {
   "cell_type": "markdown",
   "metadata": {},
   "source": [
    "## Independent Set\n",
    "\n",
    "Recall that an *independent set* in a graph is a set of nodes such that no two nodes are adjacent (connected by an edge). Finding the maximum size of an independent set in a graph is an NP-hard problem, so there is no known polynomial-time algorithm to solve it.\n",
    "\n",
    "### Problem 1\n",
    "\n",
    "Provide an *integer program* formulation for this problem. This should look identical to a linear program formulation, except you will restrict the variables corresponding to the nodes to be integer instead of fractional.\n",
    "\n",
    "The graph is denoted $G = (V, E)$. For this problem, you should use a binary variable $x_i \\in \\{0,1\\}$ for each node $i \\in N$, and you shouldn't need any other variables."
   ]
  },
  {
   "cell_type": "markdown",
   "metadata": {},
   "source": [
    "#### Solution:\n",
    "\n",
    "##### Objective function: \n",
    "$$\\sum_{i=0}^n x_i$$\n",
    "\n",
    "##### Subject to:\n",
    "$$x_i + x_j <= 1\\text{, for every } \\{i, j\\} \\in E$$\n",
    "$$x_i \\in \\{0, 1\\}\\text{, for every }0 <= i <= n$$"
   ]
  },
  {
   "cell_type": "markdown",
   "metadata": {},
   "source": [
    "### Problem 2\n",
    "\n",
    "Implement a function that solves the integer program given a graph as input."
   ]
  },
  {
   "cell_type": "code",
   "execution_count": 3,
   "metadata": {
    "collapsed": false
   },
   "outputs": [],
   "source": [
    "def independent_set_ip(graph):\n",
    "    \n",
    "    problem = pulp.LpProblem('IS_Ip', pulp.LpMaximize)\n",
    "    lp_var = {}\n",
    "    for n in graph.nodes():\n",
    "        lp_var[n] = pulp.LpVariable(name=str(n), lowBound=0, upBound=1, cat='Integer')\n",
    "\n",
    "    problem += pulp.lpSum([v for v in lp_var.values()])\n",
    "\n",
    "    for n1, n2 in graph.edges():\n",
    "        problem += lp_var[n1] + lp_var[n2] <= 1\n",
    "\n",
    "    problem.solve()\n",
    "    \n",
    "    return [(int(v.name), int(v.value())) for v in problem.variables()]"
   ]
  },
  {
   "cell_type": "markdown",
   "metadata": {},
   "source": [
    "The following code outputs the size of the sets computed by your function."
   ]
  },
  {
   "cell_type": "code",
   "execution_count": 4,
   "metadata": {
    "collapsed": false
   },
   "outputs": [],
   "source": [
    "def set_weight(solution):\n",
    "    \"\"\"Computes the total weight of the solution of an LP or IP for independent set.\n",
    "    \n",
    "    Args:\n",
    "      - solution (list[int, float]): the LP or IP solution\n",
    "    \n",
    "    Returns:\n",
    "      (float) Total weight of the solution\n",
    "    \n",
    "    \"\"\"\n",
    "    return sum(value for (node, value) in solution)"
   ]
  },
  {
   "cell_type": "code",
   "execution_count": 5,
   "metadata": {
    "collapsed": false
   },
   "outputs": [
    {
     "name": "stdout",
     "output_type": "stream",
     "text": [
      "Size of karate set =  20\n",
      "Size of power set =  2738\n"
     ]
    }
   ],
   "source": [
    "karate_ind_set = independent_set_ip(karate)\n",
    "print \"Size of karate set = \", set_weight(karate_ind_set)\n",
    "power_ind_set = independent_set_ip(power)\n",
    "print \"Size of power set = \", set_weight(power_ind_set)"
   ]
  },
  {
   "cell_type": "markdown",
   "metadata": {},
   "source": [
    "### Problem 3\n",
    "\n",
    "Take the *linear programming relaxation* of your integer program and implement a function to solve it. This simply means that in your integer program, you should replace each constraint $x_i \\in \\{0,1\\}$ with $0 \\leq x_i \\leq 1$."
   ]
  },
  {
   "cell_type": "code",
   "execution_count": 6,
   "metadata": {
    "collapsed": false
   },
   "outputs": [],
   "source": [
    "def independent_set_lp(graph):\n",
    "    \n",
    "    problem = pulp.LpProblem('IS_Lp', pulp.LpMaximize)\n",
    "\n",
    "    lp_var = {}\n",
    "    for n in graph.nodes():\n",
    "        lp_var[n] = pulp.LpVariable(name=str(n), lowBound=0, upBound=1, cat='Continuous')\n",
    "\n",
    "    problem += pulp.lpSum([v for v in lp_var.values()])\n",
    "\n",
    "    for n1, n2 in graph.edges():\n",
    "        problem += lp_var[n1] + lp_var[n2] <= 1\n",
    "\n",
    "    problem.solve()\n",
    "    \n",
    "    return [(int(v.name), v.value()) for v in problem.variables()]"
   ]
  },
  {
   "cell_type": "markdown",
   "metadata": {},
   "source": [
    "Let's see how the LP solutions compare to those of the IP."
   ]
  },
  {
   "cell_type": "code",
   "execution_count": 7,
   "metadata": {
    "collapsed": false
   },
   "outputs": [
    {
     "name": "stdout",
     "output_type": "stream",
     "text": [
      "Value of karate set =  20.5\n",
      "Value of power set =  2758.0\n"
     ]
    }
   ],
   "source": [
    "karate_ind_set_relax = independent_set_lp(karate)\n",
    "print \"Value of karate set = \", set_weight(karate_ind_set_relax)\n",
    "power_ind_set_relax = independent_set_lp(power)\n",
    "print \"Value of power set = \", set_weight(power_ind_set_relax)"
   ]
  },
  {
   "cell_type": "markdown",
   "metadata": {},
   "source": [
    "A heuristic way to convert a fractional solution to an independent set is as follows. For each node $i$, include the node in the set if $x_i > 1/2$, and discard it otherwise. This will yield a set of $a$ nodes which have $b$ edges between them. By removing at most one node for each edge, this yields an independent set of size at least $a - b$."
   ]
  },
  {
   "cell_type": "markdown",
   "metadata": {},
   "source": [
    "Implement this rounding procedure."
   ]
  },
  {
   "cell_type": "code",
   "execution_count": 8,
   "metadata": {
    "collapsed": false
   },
   "outputs": [],
   "source": [
    "def round_solution(solution, graph):\n",
    "    graph = graph.copy()\n",
    "    graph.remove_nodes_from([n for n, v in solution if v <= 0.5])\n",
    "    return graph"
   ]
  },
  {
   "cell_type": "markdown",
   "metadata": {},
   "source": [
    "The following function assesses the quality of the heuristic approach."
   ]
  },
  {
   "cell_type": "code",
   "execution_count": 9,
   "metadata": {
    "collapsed": false
   },
   "outputs": [],
   "source": [
    "def solution_quality(rounded, optimal):\n",
    "    n = rounded.number_of_nodes() - rounded.number_of_edges()\n",
    "    return float(n) / optimal"
   ]
  },
  {
   "cell_type": "markdown",
   "metadata": {},
   "source": [
    "Let's check the quality of this approach compared to the optimal IP solutions."
   ]
  },
  {
   "cell_type": "code",
   "execution_count": 10,
   "metadata": {
    "collapsed": false
   },
   "outputs": [
    {
     "name": "stdout",
     "output_type": "stream",
     "text": [
      "Quality of karate rounded solution = 90%\n",
      "Quality of power rounded solution = 95%\n"
     ]
    }
   ],
   "source": [
    "karate_rounded = round_solution(karate_ind_set_relax, karate)\n",
    "karate_quality = solution_quality(karate_rounded, set_weight(karate_ind_set))\n",
    "print \"Quality of karate rounded solution = {:.0f}%\".format(karate_quality*100)\n",
    "\n",
    "power_rounded = round_solution(power_ind_set_relax, power)\n",
    "power_quality = solution_quality(power_rounded, set_weight(power_ind_set))\n",
    "print \"Quality of power rounded solution = {:.0f}%\".format(power_quality*100)"
   ]
  }
 ],
 "metadata": {
  "anaconda-cloud": {},
  "kernelspec": {
   "display_name": "Python [Root]",
   "language": "python",
   "name": "Python [Root]"
  },
  "language_info": {
   "codemirror_mode": {
    "name": "ipython",
    "version": 2
   },
   "file_extension": ".py",
   "mimetype": "text/x-python",
   "name": "python",
   "nbconvert_exporter": "python",
   "pygments_lexer": "ipython2",
   "version": "2.7.12"
  }
 },
 "nbformat": 4,
 "nbformat_minor": 0
}

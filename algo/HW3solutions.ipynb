# -*- coding: utf-8 -*-
"""
Created on Sun Oct 30 12:28:44 2016

@author: antoinemarthey
"""

import networkx as nx
import matplotlib.pyplot as plt

G = nx.Graph()

usa = open('contiguous-usa.dat')
for line in usa:
    s1, s2 = line.strip().split()
    G.add_edge(s1, s2)

for state in G.nodes():
    if state != 'CA':
        G.node[state]['demand'] = 1
G.node['CA']['demand'] = -48

G = nx.DiGraph(G)
uniform_capacity = 16
for (s1, s2) in G.edges():
    G.edge[s1][s2]['capacity'] = uniform_capacity
    
nx.draw(G, with_labels=True)
plt.show()

def flow_with_demands(graph):

    graph = graph.copy()
    s_t = ['S', 'T']
    for i in s_t:
        graph.add_node(i)
        graph.node[i]['demand'] = 0
    for node in graph.nodes():        
        dem = graph.node[node]['demand']
        if dem < 0:
            graph.add_edge('S', node)
            graph.edge['S'][node]['capacity'] = -dem
        elif dem > 0:
            graph.add_edge(node, 'T')
            graph.edge[node]['T']['capacity'] = dem
    flow_value, flow = nx.maximum_flow(graph,'S','T')
    demand_value = sum([graph.node[n]['demand'] for n in graph.nodes() if graph.node[n]['demand']>0])
    if flow_value != demand_value:
        raise nx.NetworkXUnfeasible('Error message, there is no flow satisfying the demands')   
    for i in s_t:
        flow.pop(i)
        for x in flow:
            if i in flow[x]:
                flow[x].pop(i)
    return flow


def divergence(flow):

    res = {n:0 for n in flow}
    for x1 in flow:
        for x2 in flow[x1]:            
            res[x1] = res[x1] - flow[x1][x2]            
            res[x2] = res[x2] + flow[x1][x2]
    return res
    
flow = flow_with_demands(G)
div = divergence(flow)
print "Flow satisfies all demands:", all(div[n] == G.node[n]['demand'] for n in G.nodes())
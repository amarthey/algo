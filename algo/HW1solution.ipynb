# -*- coding: utf-8 -*-
"""
Created on Thu Sep 29 11:19:11 2016

@author: antoinemarthey
"""
 

import networkx as nx
import urllib2
import itertools
homer = urllib2.urlopen('http://people.sc.fsu.edu/~jburkardt/datasets/sgb/homer.dat')
import pylab as py
import timeit

start = timeit.default_timer()

def read_nodes(gfile):
    liste_nodes = []
    for line in gfile:
        liste_nodes.append(line[:2])
    liste_nodes = liste_nodes[4:565]
    return liste_nodes
   
def read_edges(gfile):
    final_list = []
    liste_edges = []
    for line in gfile:
        liste_edges.append(line)
    liste_edges = liste_edges[566:]
    for item in range(0,len(liste_edges)):
        liste_antoine = []
        antoine = liste_edges[item].split(':')
        antoine = antoine[1:]
        for item in antoine:
            liste_antoine.append(item)        
        for item in range(0,len(liste_antoine)):
            li = liste_antoine[item].split(";")
            liste_interactions = []
            for item in li:
                liste_interactions.append(item)
            liste_interactions[-1] = liste_interactions[-1][:-1] 
            for item in range(0,len(liste_interactions)):
                data = liste_interactions[item].split(",")
                for sub in itertools.combinations(data, 2):
                    final_list.append(sub)
    return final_list

a = read_nodes(urllib2.urlopen('http://people.sc.fsu.edu/~jburkardt/datasets/sgb/homer.dat'))       
b = read_edges(urllib2.urlopen('http://people.sc.fsu.edu/~jburkardt/datasets/sgb/homer.dat'))

print a
print b

G = nx.Graph()
G.add_nodes_from(a)
G.add_edges_from(b)

nx.draw(G)
py.show()

def Search(graph, root, path=[]):
    path += [root]
    root_neighbors = graph.neighbors(root)
    root_neighbors.sort()
    for node in root_neighbors:
        if not node in path:
            path = Search(graph, node, path)
    return path

print Search(G,'OD', path=[])

def connected_components(graph):
    result = []
    unvisited_nodes = graph.nodes()
    while len(unvisited_nodes) <> 0:
        unvisited_nodes.sort()
        root = unvisited_nodes[0]
        connected_component = Search(graph, root, path=[])
        result.append(connected_component)
        unvisited_nodes = [k for k in unvisited_nodes if k not in connected_component]

    return result
    
character_interactions = connected_components(G)

print character_interactions

component_sizes = [len(c) for c in character_interactions]

print "There are 12 connected components in the Iliad:", len(component_sizes) == 12
print "The giant component has size 542:", max(component_sizes) == 542
print "There are 5 isolated characters:", len([c for c in component_sizes if c == 1]) == 5

stop = timeit.default_timer()

print 'Running time of the algorithm is ', stop - start , ' seconds.'
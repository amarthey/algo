# -*- coding: utf-8 -*-
"""
Created on Mon Nov 21 10:14:06 2016

@author: antoinemarthey
"""

import networkx as nx

def create_graph(infile):

    graph = nx.DiGraph()
    with open(infile) as f:
        for line_number, l in enumerate(f):
            part = l.split()
            if len(part) > 0:
                if part[0] == 'n':
                    node, demand = part[1], part[2]
                    graph.add_node(n=node, demand=int(demand))
                elif part[0] == 'a':    
                    node_a, node_b, cap, cost = part[1], part[2], part[4], part[5]

                    if not node_a in graph:
                        graph.add_node(node_a, demand=0)
                    if not node_b in graph:
                        graph.add_node(node_b, demand=0)
                    if not graph.has_edge(u=node_a, v=node_b):
                        graph.add_edge(u=node_a, v=node_b, capacity=int(cap), weight=int(cost))
                    else:
                        tempory_node = 'tempory_node_%s' % line_number
                        graph.add_node(tempory_node, demand=0)
                        graph.add_edge(node_a, tempory_node, capacity=int(cap), weight=0)
                        graph.add_edge(tempory_node, node_b, capacity=int(cap), weight=int(cost))

    return graph
    
G_40 = create_graph('gte_bad.40')
G_6830 = create_graph('gte_bad.6830')
G_176280 = create_graph('gte_bad.176280')

print "Correct value for _40 instance:", nx.min_cost_flow_cost(G_40) == 52099553858
print "Correct value for _6830 instance:", nx.min_cost_flow_cost(G_6830) == 299390431788
print "Correct value for _176280 instance:", nx.min_cost_flow_cost(G_176280) == 510585093810

import pulp

def lp_flow_value(G):

    d = nx.get_node_attributes(G, 'demand')
    c = nx.get_edge_attributes(G, 'capacity')
    w = nx.get_edge_attributes(G, 'weight')

    LP_pb = pulp.LpProblem('min_cost_flow', pulp.LpMinimize)

    f = pulp.LpVariable.dicts('flow', G.edges(), 0)

    LP_pb += pulp.lpSum([w[edge] * f[edge] for edge in G.edges()])

    for node in G.nodes():
        f_in = pulp.lpSum([f[in_edge] for in_edge in G.in_edges(node)])
        f_out = pulp.lpSum([f[out_edge] for out_edge in G.out_edges(node)])
        LP_pb += f_in - f_out == d[node]
    for edge in G.edges():
        LP_pb += f[edge] <= c[edge]

    LP_pb.solve()
    return pulp.value(LP_pb.objective)
    
print "Correct value for _40 instance:", lp_flow_value(G_40) == 52099553858
print "Correct value for _6830 instance:", lp_flow_value(G_6830) == 299390431788
print "Correct value for _176280 instance:", lp_flow_value(G_176280) == 510585093810